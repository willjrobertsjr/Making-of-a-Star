{
 "cells": [
  {
   "cell_type": "markdown",
   "metadata": {},
   "source": [
    "# The Making of a Star"
   ]
  },
  {
   "cell_type": "markdown",
   "metadata": {},
   "source": [
    "In today's world, parents will stop at nothing to give their children the best chance for success.  Searching for the best schools, taking on endless extracurricular activities, and micromanaging the smallest details of their kids' lives is not uncommon for the modern day super moms and super dads.  In the sports world, the same applies.  With the rise in ultra-competitive travel sports and early specialization, parents will look for any advantage they can afford their little ones.  \n",
    "\n",
    "What if there was a blueprint to follow that gave young boys the best chance to achieve their dreams and graduate from local recreational league all-star to a Major League Baseball All-Star?  Zealous parents would undoubtedly follow it verbatim.\n",
    "\n",
    "The beauty of baseball is that players come in all different shapes, sizes, backgrounds, and schooling levels.  It's a heavily skill-based sport where most players cannot rely solely on their naturally given athleticism but must sharpen and refine their hitting and pitching mechanics to ascend.\n",
    "\n",
    "However, that's not to say the highest level baseball players do not share some of the same attributes. The purpose of this study is to explore many of those attributes and answer this question: \"Are there qualities that give a player the best chance to be successful and make a career out of baseball?\"  Success in the game can take many forms: from MVPs to World Series titles to enshrinement in Cooperstown at the Hall of Fame.  To remove the team aspect and get a true sense of what it means to reach the pinnacle of a successful baseball career, two measurable parameters will the used: yearly salary and All-Star game appearances. These were chosen because high salaries suggest longevity and consistent success, and an All-Star game appearance speaks to a player being at the top of their profession for the position they play."
   ]
  },
  {
   "cell_type": "markdown",
   "metadata": {},
   "source": [
    "# Data Gathering"
   ]
  },
  {
   "cell_type": "markdown",
   "metadata": {},
   "source": [
    "We start by importing the list of all baseball players from 1871 to 2015 from Sean Lahman's Baseball Database.  "
   ]
  },
  {
   "cell_type": "code",
   "execution_count": 659,
   "metadata": {
    "collapsed": false
   },
   "outputs": [
    {
     "data": {
      "text/plain": [
       "18846"
      ]
     },
     "execution_count": 659,
     "metadata": {},
     "output_type": "execute_result"
    }
   ],
   "source": [
    "import pandas as pd\n",
    "import matplotlib.pyplot as plt\n",
    "import seaborn as sns\n",
    "import numpy as np\n",
    "%matplotlib inline\n",
    "\n",
    "#Master list containing personal information\n",
    "all_players = pd.read_csv('Master.csv') \n",
    "len(all_players)"
   ]
  },
  {
   "cell_type": "markdown",
   "metadata": {},
   "source": [
    "The Major League Baseball All-Star Game originated in 1933, so that is where the next data  set begins.  This list is shorter in length because of the reduced time frame and fact that not everyone makes an All-Star team."
   ]
  },
  {
   "cell_type": "code",
   "execution_count": 660,
   "metadata": {
    "collapsed": false
   },
   "outputs": [
    {
     "data": {
      "text/plain": [
       "5069"
      ]
     },
     "execution_count": 660,
     "metadata": {},
     "output_type": "execute_result"
    }
   ],
   "source": [
    "#list containing all-star appearances\n",
    "mlb_allstar = pd.read_csv('AllstarFull.csv')\n",
    "len(mlb_allstar)"
   ]
  },
  {
   "cell_type": "markdown",
   "metadata": {},
   "source": [
    "Each full All-Star team is included in the list, and some players made the team multiple times.  Therefore the next step is deleting duplicate entries for a player by searching playerID.  What results is a list of everyone who made the All-Star game listed once with their most recent All-Star game year."
   ]
  },
  {
   "cell_type": "code",
   "execution_count": 661,
   "metadata": {
    "collapsed": false
   },
   "outputs": [
    {
     "data": {
      "text/plain": [
       "1741"
      ]
     },
     "execution_count": 661,
     "metadata": {},
     "output_type": "execute_result"
    }
   ],
   "source": [
    "#remove duplicates from list for repeat all-stars\n",
    "nodup_mlballstar = mlb_allstar.drop_duplicates(['playerID'], keep='last') \n",
    "len(nodup_mlballstar) "
   ]
  },
  {
   "cell_type": "markdown",
   "metadata": {},
   "source": [
    "The function merge_by_playerID is defined to merge any two Dataframes by matching playerID.  Since every All-Star should be in the Dataframe all_players from the Master list, we would expect the resulting merge to produce a Dataframe of matching length to the All-Star list.  The new Dataframe should be a list of all personal information about each All-Star."
   ]
  },
  {
   "cell_type": "code",
   "execution_count": 662,
   "metadata": {
    "collapsed": false
   },
   "outputs": [
    {
     "data": {
      "text/plain": [
       "1740"
      ]
     },
     "execution_count": 662,
     "metadata": {},
     "output_type": "execute_result"
    }
   ],
   "source": [
    "def merge_by_playerID(df1, df2):  \n",
    "    \n",
    "    \"\"\"define a function to merge 2 dataframes by playerID to be reused throughout\"\"\"\n",
    "    \n",
    "    return df1.merge(df2, on='playerID', how='inner')\n",
    "\n",
    "#merge to have list of all-star personal information\n",
    "allstars_personal = merge_by_playerID(all_players, nodup_mlballstar)\n",
    "len(allstars_personal)"
   ]
  },
  {
   "cell_type": "markdown",
   "metadata": {},
   "source": [
    "Surprisingly, allstars_personal is shorter by one entry.  To find the problem, we search to find which entry is in nodup_mlballstar but not all_players."
   ]
  },
  {
   "cell_type": "code",
   "execution_count": 663,
   "metadata": {
    "collapsed": false
   },
   "outputs": [
    {
     "data": {
      "text/html": [
       "<div>\n",
       "<table border=\"1\" class=\"dataframe\">\n",
       "  <thead>\n",
       "    <tr style=\"text-align: right;\">\n",
       "      <th></th>\n",
       "      <th>playerID</th>\n",
       "      <th>yearID</th>\n",
       "      <th>gameNum</th>\n",
       "      <th>gameID</th>\n",
       "      <th>teamID</th>\n",
       "      <th>lgID</th>\n",
       "      <th>GP</th>\n",
       "      <th>startingPos</th>\n",
       "    </tr>\n",
       "  </thead>\n",
       "  <tbody>\n",
       "    <tr>\n",
       "      <th>4965</th>\n",
       "      <td>carperma01</td>\n",
       "      <td>2014</td>\n",
       "      <td>0</td>\n",
       "      <td>ALS201407150</td>\n",
       "      <td>SLN</td>\n",
       "      <td>NL</td>\n",
       "      <td>0.0</td>\n",
       "      <td>NaN</td>\n",
       "    </tr>\n",
       "  </tbody>\n",
       "</table>\n",
       "</div>"
      ],
      "text/plain": [
       "        playerID  yearID  gameNum        gameID teamID lgID   GP  startingPos\n",
       "4965  carperma01    2014        0  ALS201407150    SLN   NL  0.0          NaN"
      ]
     },
     "execution_count": 663,
     "metadata": {},
     "output_type": "execute_result"
    }
   ],
   "source": [
    "#search for rogue entry in nodup_mlballstar\n",
    "nodup_mlballstar[~nodup_mlballstar['playerID'].isin(all_players['playerID'])] "
   ]
  },
  {
   "cell_type": "markdown",
   "metadata": {},
   "source": [
    "It appears that 2014 All-Star Matt Carpenter is listed under the playerID 'carperma01'.  To confirm the discrepancy, we searched for Carpenter's entry in the all_players Dataframe.  We find that his playerID here is 'carpema01'."
   ]
  },
  {
   "cell_type": "code",
   "execution_count": 664,
   "metadata": {
    "collapsed": false,
    "scrolled": false
   },
   "outputs": [
    {
     "name": "stdout",
     "output_type": "stream",
     "text": [
      "       playerID  birthYear  birthMonth  birthDay birthCountry birthState  \\\n",
      "2580  carpean01     1985.0         5.0      18.0          USA         CA   \n",
      "2581  carpebo01     1917.0        12.0      12.0          USA         IL   \n",
      "2582  carpebu01     1968.0         7.0      23.0          USA         TX   \n",
      "2583  carpech01     1975.0         4.0      27.0          USA         NH   \n",
      "2584  carpech02     1985.0        12.0      26.0          USA         OH   \n",
      "2585  carpecr01     1965.0         4.0       5.0          USA         FL   \n",
      "2586  carpeda01     1985.0         7.0      15.0          USA         WV   \n",
      "2587  carpeda02     1987.0         9.0       1.0          USA         TX   \n",
      "2588  carpehi01     1855.0         8.0      16.0          USA         MA   \n",
      "2589  carpele01     1913.0         8.0      16.0          USA         GA   \n",
      "2590  carpema01     1985.0        11.0      26.0          USA         TX   \n",
      "2591  carpepa01     1894.0         8.0      12.0          USA         OH   \n",
      "\n",
      "          birthCity  deathYear  deathMonth  deathDay    ...       nameLast  \\\n",
      "2580      Fairfield        NaN         NaN       NaN    ...      Carpenter   \n",
      "2581        Chicago     2005.0        10.0      19.0    ...      Carpenter   \n",
      "2582         Dallas        NaN         NaN       NaN    ...      Carpenter   \n",
      "2583         Exeter        NaN         NaN       NaN    ...      Carpenter   \n",
      "2584          Bryan        NaN         NaN       NaN    ...      Carpenter   \n",
      "2585  St. Augustine        NaN         NaN       NaN    ...      Carpenter   \n",
      "2586     Morgantown        NaN         NaN       NaN    ...      Carpenter   \n",
      "2587      Arlington        NaN         NaN       NaN    ...      Carpenter   \n",
      "2588        Grafton     1937.0         4.0      18.0    ...      Carpenter   \n",
      "2589      Woodstock     1979.0         4.0      25.0    ...      Carpenter   \n",
      "2590      Galveston        NaN         NaN       NaN    ...      Carpenter   \n",
      "2591      Granville     1968.0         3.0      14.0    ...      Carpenter   \n",
      "\n",
      "                 nameGiven weight height bats throws       debut   finalGame  \\\n",
      "2580  Andrew James Rudolph  240.0   75.0    R      R  2008-08-27  2012-07-31   \n",
      "2581          Robert Louis  195.0   75.0    R      R  1940-09-05  1947-08-13   \n",
      "2582        Charles Sydney  195.0   73.0    L      L  2000-05-13  2000-06-06   \n",
      "2583      Christopher John  230.0   78.0    R      R  1997-05-12  2012-10-02   \n",
      "2584      Christopher John  220.0   76.0    R      R  2011-06-14  2012-10-03   \n",
      "2585           Cris Howell  195.0   73.0    R      R  1988-05-14  1996-04-26   \n",
      "2586         Darrell David  230.0   74.0    R      R  2011-06-30  2015-07-05   \n",
      "2587             David Lee  180.0   75.0    R      R  2012-04-13  2015-07-12   \n",
      "2588        Warren William  186.0   71.0    R      L  1879-05-01  1892-07-31   \n",
      "2589          Lewis Emmett  195.0   74.0    R      R  1943-05-01  1943-05-09   \n",
      "2590        Matthew Martin  215.0   75.0    L      R  2011-06-04  2015-10-04   \n",
      "2591           Paul Calvin  165.0   71.0    R      R  1916-07-26  1916-09-02   \n",
      "\n",
      "       retroID    bbrefID  \n",
      "2580  carpa001  carpean01  \n",
      "2581  carpb101  carpebo01  \n",
      "2582  carpb001  carpebu01  \n",
      "2583  carpc002  carpech01  \n",
      "2584  carpc003  carpech02  \n",
      "2585  carpc001  carpecr01  \n",
      "2586  carpd001  carpeda01  \n",
      "2587  carpd002  carpeda02  \n",
      "2588  carph101  carpehi01  \n",
      "2589  carpl101  carpele01  \n",
      "2590  carpm002  carpema01  \n",
      "2591  carpp101  carpepa01  \n",
      "\n",
      "[12 rows x 24 columns]\n"
     ]
    }
   ],
   "source": [
    "#search all_players to see what playerID he is listed under\n",
    "print(all_players.loc[all_players['nameLast'] == 'Carpenter']) "
   ]
  },
  {
   "cell_type": "markdown",
   "metadata": {},
   "source": [
    "There was obviously a typographical error, so we need to find which is the true key that is consistently used throughout the rest of the data to be uploaded.  Therefore, we upload a .csv file that will be used later and search for the playerID 'carpema01'."
   ]
  },
  {
   "cell_type": "code",
   "execution_count": 665,
   "metadata": {
    "collapsed": false
   },
   "outputs": [
    {
     "name": "stdout",
     "output_type": "stream",
     "text": [
      "       playerID  schoolID  yearID\n",
      "2443  carpema01  txchrist    2005\n",
      "2444  carpema01  txchrist    2006\n",
      "2445  carpema01  txchrist    2007\n",
      "2446  carpema01  txchrist    2008\n",
      "2447  carpema01  txchrist    2009\n"
     ]
    }
   ],
   "source": [
    "#list containing players attending college\n",
    "college_players = pd.read_csv('CollegePlaying.csv') \n",
    "\n",
    "#search for his playerID used in Master\n",
    "print(college_players.loc[college_players['playerID'] == 'carpema01']) "
   ]
  },
  {
   "cell_type": "markdown",
   "metadata": {},
   "source": [
    "The 'carpema01' playerID is used extensively in this set, confirming that it is the correct playerID for Matt Carpenter.  We now can go ahead and correct the data entry error in the nodup_mlballstar set.  It's found that Carpenter also had an entry for a separate year with the correct playerID in the All-Star set."
   ]
  },
  {
   "cell_type": "code",
   "execution_count": 611,
   "metadata": {
    "collapsed": false,
    "scrolled": true
   },
   "outputs": [
    {
     "name": "stdout",
     "output_type": "stream",
     "text": [
      "[4888, 4965]\n",
      "1741\n"
     ]
    }
   ],
   "source": [
    "#find index where typo is and correct it\n",
    "carper_location = nodup_mlballstar[nodup_mlballstar['playerID'] == 'carperma01'].index.tolist() \n",
    "corrected_allstars = nodup_mlballstar.set_value(carper_location, 'playerID', \"carpema01\") \n",
    "\n",
    "#shows there are now two instances of playerID 'carpeme01'\n",
    "print corrected_allstars[corrected_allstars['playerID'] == 'carpema01'].index.tolist() \n",
    "print len(corrected_allstars)"
   ]
  },
  {
   "cell_type": "markdown",
   "metadata": {},
   "source": [
    "We drop the duplicates of the Dataframe again and now have our final cleaned All-Star group."
   ]
  },
  {
   "cell_type": "code",
   "execution_count": 666,
   "metadata": {
    "collapsed": false
   },
   "outputs": [
    {
     "name": "stdout",
     "output_type": "stream",
     "text": [
      "1740\n"
     ]
    }
   ],
   "source": [
    "#delete duplicate keeping name the same\n",
    "corrected_allstars = corrected_allstars.drop_duplicates(['playerID'], keep='last') \n",
    "print len(corrected_allstars)"
   ]
  },
  {
   "cell_type": "markdown",
   "metadata": {},
   "source": [
    "With this finished All-Star Dataframe, we merge with all_players as we did at the beginning to create an All-Star list with personal information that we have more confidence is accurate."
   ]
  },
  {
   "cell_type": "code",
   "execution_count": 667,
   "metadata": {
    "collapsed": false
   },
   "outputs": [
    {
     "data": {
      "text/plain": [
       "1740"
      ]
     },
     "execution_count": 667,
     "metadata": {},
     "output_type": "execute_result"
    }
   ],
   "source": [
    "#update allstars_personal to merge of corrected data\n",
    "allstars_personal = merge_by_playerID(all_players, corrected_allstars) \n",
    "len(allstars_personal)"
   ]
  },
  {
   "cell_type": "markdown",
   "metadata": {},
   "source": [
    "Our final filter of the data is to remove all players not born in the United States.  Since our project question is tailored more towards American parents, American kids, and the American dream, it is important to consolidate the data to only American born players.  Also, a few of the attributes we will look at in detail (namely schooling and national geography) are much more pertinent for American players. "
   ]
  },
  {
   "cell_type": "code",
   "execution_count": 668,
   "metadata": {
    "collapsed": false
   },
   "outputs": [
    {
     "data": {
      "text/plain": [
       "1478"
      ]
     },
     "execution_count": 668,
     "metadata": {},
     "output_type": "execute_result"
    }
   ],
   "source": [
    "#include only USA born player entries\n",
    "usastars = allstars_personal[allstars_personal.birthCountry == 'USA'] \n",
    "len(usastars) "
   ]
  },
  {
   "cell_type": "markdown",
   "metadata": {},
   "source": [
    "We want to add a few more attributes to our master list of All-Stars, and to do this we add columns for whether a player attended a university or junior college and whether the player is a pitcher. "
   ]
  },
  {
   "cell_type": "code",
   "execution_count": 675,
   "metadata": {
    "collapsed": false,
    "scrolled": false
   },
   "outputs": [
    {
     "data": {
      "text/html": [
       "<div>\n",
       "<table border=\"1\" class=\"dataframe\">\n",
       "  <thead>\n",
       "    <tr style=\"text-align: right;\">\n",
       "      <th></th>\n",
       "      <th>playerID</th>\n",
       "      <th>birthYear</th>\n",
       "      <th>birthMonth</th>\n",
       "      <th>birthDay</th>\n",
       "      <th>birthCountry</th>\n",
       "      <th>birthState</th>\n",
       "      <th>birthCity</th>\n",
       "      <th>deathYear</th>\n",
       "      <th>deathMonth</th>\n",
       "      <th>deathDay</th>\n",
       "      <th>...</th>\n",
       "      <th>bbrefID</th>\n",
       "      <th>yearID</th>\n",
       "      <th>gameNum</th>\n",
       "      <th>gameID</th>\n",
       "      <th>teamID</th>\n",
       "      <th>lgID</th>\n",
       "      <th>GP</th>\n",
       "      <th>startingPos</th>\n",
       "      <th>Pitcher</th>\n",
       "      <th>College</th>\n",
       "    </tr>\n",
       "  </thead>\n",
       "  <tbody>\n",
       "    <tr>\n",
       "      <th>0</th>\n",
       "      <td>aaronha01</td>\n",
       "      <td>1934.0</td>\n",
       "      <td>2.0</td>\n",
       "      <td>5.0</td>\n",
       "      <td>USA</td>\n",
       "      <td>AL</td>\n",
       "      <td>Mobile</td>\n",
       "      <td>NaN</td>\n",
       "      <td>NaN</td>\n",
       "      <td>NaN</td>\n",
       "      <td>...</td>\n",
       "      <td>aaronha01</td>\n",
       "      <td>1975</td>\n",
       "      <td>0</td>\n",
       "      <td>ALS197507150</td>\n",
       "      <td>ML4</td>\n",
       "      <td>AL</td>\n",
       "      <td>1.0</td>\n",
       "      <td>NaN</td>\n",
       "      <td>False</td>\n",
       "      <td>False</td>\n",
       "    </tr>\n",
       "    <tr>\n",
       "      <th>1</th>\n",
       "      <td>aasedo01</td>\n",
       "      <td>1954.0</td>\n",
       "      <td>9.0</td>\n",
       "      <td>8.0</td>\n",
       "      <td>USA</td>\n",
       "      <td>CA</td>\n",
       "      <td>Orange</td>\n",
       "      <td>NaN</td>\n",
       "      <td>NaN</td>\n",
       "      <td>NaN</td>\n",
       "      <td>...</td>\n",
       "      <td>aasedo01</td>\n",
       "      <td>1986</td>\n",
       "      <td>0</td>\n",
       "      <td>NLS198607150</td>\n",
       "      <td>BAL</td>\n",
       "      <td>AL</td>\n",
       "      <td>1.0</td>\n",
       "      <td>NaN</td>\n",
       "      <td>True</td>\n",
       "      <td>False</td>\n",
       "    </tr>\n",
       "    <tr>\n",
       "      <th>4</th>\n",
       "      <td>adamsac01</td>\n",
       "      <td>1910.0</td>\n",
       "      <td>3.0</td>\n",
       "      <td>2.0</td>\n",
       "      <td>USA</td>\n",
       "      <td>CA</td>\n",
       "      <td>Willows</td>\n",
       "      <td>2006.0</td>\n",
       "      <td>2.0</td>\n",
       "      <td>26.0</td>\n",
       "      <td>...</td>\n",
       "      <td>adamsac01</td>\n",
       "      <td>1943</td>\n",
       "      <td>0</td>\n",
       "      <td>ALS194307130</td>\n",
       "      <td>NY1</td>\n",
       "      <td>NL</td>\n",
       "      <td>0.0</td>\n",
       "      <td>NaN</td>\n",
       "      <td>True</td>\n",
       "      <td>False</td>\n",
       "    </tr>\n",
       "    <tr>\n",
       "      <th>5</th>\n",
       "      <td>adcocjo01</td>\n",
       "      <td>1927.0</td>\n",
       "      <td>10.0</td>\n",
       "      <td>30.0</td>\n",
       "      <td>USA</td>\n",
       "      <td>LA</td>\n",
       "      <td>Coushatta</td>\n",
       "      <td>1999.0</td>\n",
       "      <td>5.0</td>\n",
       "      <td>3.0</td>\n",
       "      <td>...</td>\n",
       "      <td>adcocjo01</td>\n",
       "      <td>1960</td>\n",
       "      <td>2</td>\n",
       "      <td>ALS196007130</td>\n",
       "      <td>ML1</td>\n",
       "      <td>NL</td>\n",
       "      <td>1.0</td>\n",
       "      <td>3.0</td>\n",
       "      <td>False</td>\n",
       "      <td>True</td>\n",
       "    </tr>\n",
       "    <tr>\n",
       "      <th>6</th>\n",
       "      <td>ageeto01</td>\n",
       "      <td>1942.0</td>\n",
       "      <td>8.0</td>\n",
       "      <td>9.0</td>\n",
       "      <td>USA</td>\n",
       "      <td>AL</td>\n",
       "      <td>Magnolia</td>\n",
       "      <td>2001.0</td>\n",
       "      <td>1.0</td>\n",
       "      <td>22.0</td>\n",
       "      <td>...</td>\n",
       "      <td>ageeto01</td>\n",
       "      <td>1967</td>\n",
       "      <td>0</td>\n",
       "      <td>ALS196707110</td>\n",
       "      <td>CHA</td>\n",
       "      <td>AL</td>\n",
       "      <td>1.0</td>\n",
       "      <td>NaN</td>\n",
       "      <td>False</td>\n",
       "      <td>True</td>\n",
       "    </tr>\n",
       "  </tbody>\n",
       "</table>\n",
       "<p>5 rows × 33 columns</p>\n",
       "</div>"
      ],
      "text/plain": [
       "    playerID  birthYear  birthMonth  birthDay birthCountry birthState  \\\n",
       "0  aaronha01     1934.0         2.0       5.0          USA         AL   \n",
       "1   aasedo01     1954.0         9.0       8.0          USA         CA   \n",
       "4  adamsac01     1910.0         3.0       2.0          USA         CA   \n",
       "5  adcocjo01     1927.0        10.0      30.0          USA         LA   \n",
       "6   ageeto01     1942.0         8.0       9.0          USA         AL   \n",
       "\n",
       "   birthCity  deathYear  deathMonth  deathDay   ...      bbrefID yearID  \\\n",
       "0     Mobile        NaN         NaN       NaN   ...    aaronha01   1975   \n",
       "1     Orange        NaN         NaN       NaN   ...     aasedo01   1986   \n",
       "4    Willows     2006.0         2.0      26.0   ...    adamsac01   1943   \n",
       "5  Coushatta     1999.0         5.0       3.0   ...    adcocjo01   1960   \n",
       "6   Magnolia     2001.0         1.0      22.0   ...     ageeto01   1967   \n",
       "\n",
       "  gameNum        gameID teamID lgID   GP  startingPos Pitcher College  \n",
       "0       0  ALS197507150    ML4   AL  1.0          NaN   False   False  \n",
       "1       0  NLS198607150    BAL   AL  1.0          NaN    True   False  \n",
       "4       0  ALS194307130    NY1   NL  0.0          NaN    True   False  \n",
       "5       2  ALS196007130    ML1   NL  1.0          3.0   False    True  \n",
       "6       0  ALS196707110    CHA   AL  1.0          NaN   False    True  \n",
       "\n",
       "[5 rows x 33 columns]"
      ]
     },
     "execution_count": 675,
     "metadata": {},
     "output_type": "execute_result"
    }
   ],
   "source": [
    "#contains all pitching data\n",
    "pitching = pd.read_csv('Pitching.csv') #upload .csv with all pitching data\n",
    "\n",
    "# return Boolean for if player is pitcher or attended college\n",
    "usa_stars = usastars.copy() \n",
    "usa_stars['Pitcher'] = usa_stars.playerID.isin(pitching.playerID) \n",
    "usa_stars['College'] = usa_stars.playerID.isin(college_players.playerID) \n",
    "usa_stars.head() "
   ]
  },
  {
   "cell_type": "markdown",
   "metadata": {},
   "source": [
    "Finally, the CSV with per year salaries for each player is merged with the usa_stars Dataframe.  All files and merges needed for our analysis are now complete."
   ]
  },
  {
   "cell_type": "code",
   "execution_count": 676,
   "metadata": {
    "collapsed": false,
    "scrolled": false
   },
   "outputs": [],
   "source": [
    "#contains all salary data\n",
    "salaries = pd.read_csv('Salaries.csv')\n",
    "\n",
    "#create new df with salaries (will have duplicates because multiple years of salaries)\n",
    "usastars_salaries = merge_by_playerID(usa_stars, salaries) "
   ]
  },
  {
   "cell_type": "markdown",
   "metadata": {},
   "source": [
    "# Analysis"
   ]
  },
  {
   "cell_type": "markdown",
   "metadata": {},
   "source": [
    "Grouping the Dataframe by pitchers (True) and hitters (False), the first real observation to make is the difference in mean yearly salary.  Per the data, MLB All-Star position players averaged earning a little over $350,000 more yearly than pitchers.  A possible explanation is the longevity of a batter is expected to be longer than a pitcher because of pitchers' injury risks.  Shoulder and elbow injuries to labrums and ligaments can force pitchers to miss extended periods or full seasons more frequently than hitters, thus decreasing their value to clubs when contracts are up or even preventing pitchers from getting to their next big deal."
   ]
  },
  {
   "cell_type": "code",
   "execution_count": 677,
   "metadata": {
    "collapsed": false
   },
   "outputs": [
    {
     "name": "stdout",
     "output_type": "stream",
     "text": [
      "Pitcher       \n",
      "False    count    3.704000e+03\n",
      "         mean     3.732155e+06\n",
      "         std      4.633108e+06\n",
      "         min      6.000000e+04\n",
      "         25%      5.175000e+05\n",
      "         50%      2.000000e+06\n",
      "         75%      5.187500e+06\n",
      "         max      3.300000e+07\n",
      "True     count    3.341000e+03\n",
      "         mean     3.373456e+06\n",
      "         std      4.181213e+06\n",
      "         min      6.000000e+04\n",
      "         25%      5.000000e+05\n",
      "         50%      1.650000e+06\n",
      "         75%      4.675000e+06\n",
      "         max      3.257100e+07\n",
      "Name: salary, dtype: float64\n"
     ]
    }
   ],
   "source": [
    "#group the df by the Boolean for 'Pitcher'\n",
    "grouped_positions = usastars_salaries.groupby('Pitcher') #group the df by the Boolean for 'Pitcher'\n",
    "\n",
    "print grouped_positions.describe()['salary']"
   ]
  },
  {
   "cell_type": "markdown",
   "metadata": {},
   "source": [
    "With batters' salaries especially intriguing, it is important to group batters by right handed, left handed, or switch to see if there is any advantage to batting orientation.  Left handed batters look to be the big winners at the bank, scoring over \\$250,000 more than right handers and over \\$630,000 more than switch hitters per year.  This seems a little curious, as switch hitters are the most rare and one wouldn't expect left handers to have that great of an edge over them in career earnings.  One hypothesis is most left handed hitters are also left handed throwers, and left handed throwers are forced into playing either first base or an outfield position.  These positions are historically the most offensive minded positions on the field, and their offensive production leads to bigger paydays.     "
   ]
  },
  {
   "cell_type": "code",
   "execution_count": 678,
   "metadata": {
    "collapsed": false
   },
   "outputs": [
    {
     "data": {
      "text/html": [
       "<div>\n",
       "<table border=\"1\" class=\"dataframe\">\n",
       "  <thead>\n",
       "    <tr style=\"text-align: right;\">\n",
       "      <th></th>\n",
       "      <th>Bats</th>\n",
       "      <th>Pitcher</th>\n",
       "      <th>Average Yearly Salary</th>\n",
       "    </tr>\n",
       "  </thead>\n",
       "  <tbody>\n",
       "    <tr>\n",
       "      <th>0</th>\n",
       "      <td>B</td>\n",
       "      <td>False</td>\n",
       "      <td>3.327732e+06</td>\n",
       "    </tr>\n",
       "    <tr>\n",
       "      <th>2</th>\n",
       "      <td>L</td>\n",
       "      <td>False</td>\n",
       "      <td>3.959333e+06</td>\n",
       "    </tr>\n",
       "    <tr>\n",
       "      <th>4</th>\n",
       "      <td>R</td>\n",
       "      <td>False</td>\n",
       "      <td>3.695517e+06</td>\n",
       "    </tr>\n",
       "  </tbody>\n",
       "</table>\n",
       "</div>"
      ],
      "text/plain": [
       "  Bats Pitcher  Average Yearly Salary\n",
       "0    B   False           3.327732e+06\n",
       "2    L   False           3.959333e+06\n",
       "4    R   False           3.695517e+06"
      ]
     },
     "execution_count": 678,
     "metadata": {},
     "output_type": "execute_result"
    }
   ],
   "source": [
    "def group_two_variables(df, key1, key2): \n",
    "    \n",
    "    \"\"\"function to group by two variables\"\"\"\n",
    "    \n",
    "    return df.groupby([key1, key2])\n",
    "\n",
    "#group batting style by orientation and position\n",
    "grouped_battingstyle = group_two_variables(usastars_salaries, 'bats', 'Pitcher') \n",
    "\n",
    "#create df from these keys looking at mean yearly salaries\n",
    "hitter_salaries = grouped_battingstyle.mean()['salary'].reset_index() \n",
    "hitter_salaries.columns = ['Bats', 'Pitcher', 'Average Yearly Salary']\n",
    "\n",
    "#look at only hitters' salaries\n",
    "only_hitter_salaries = hitter_salaries[hitter_salaries['Pitcher'] == False] \n",
    "print only_hitter_salaries"
   ]
  },
  {
   "cell_type": "code",
   "execution_count": 679,
   "metadata": {
    "collapsed": false,
    "scrolled": false
   },
   "outputs": [
    {
     "data": {
      "text/plain": [
       "[<matplotlib.text.Text at 0x30d8ee48>]"
      ]
     },
     "execution_count": 679,
     "metadata": {},
     "output_type": "execute_result"
    },
    {
     "data": {
      "image/png": "[encoded data removed]",
      "text/plain": [
       "<matplotlib.figure.Figure at 0x3c4cb588>"
      ]
     },
     "metadata": {},
     "output_type": "display_data"
    }
   ],
   "source": [
    "#plot only_hitter_salaries\n",
    "ohs_plot = only_hitter_salaries.plot(x='Bats', y='Average Yearly Salary', kind='bar', ylim = (2000000,4200000), legend = False, title = 'Average Yearly Salary of Batting Styles', color = 'r')\n",
    "ohs_plot.set(ylabel='Dollars')"
   ]
  },
  {
   "cell_type": "markdown",
   "metadata": {},
   "source": [
    "To further explore the idea that left handed throwers have some relation to left handed batters, the players were grouped by how they throw.  Not surprisingly, left handed throwing non-pitchers garnered the highest average yearly salary.  A little shocking is the margin, though.  Lefties received $875,000 more yearly than their counterpart right handed throwing position players.  Again, lefthanded throwers are almost exclusively first basemen and outfielders as position players.  Their assumed power hitting at these spots should help explain their inflated pay.   "
   ]
  },
  {
   "cell_type": "code",
   "execution_count": 680,
   "metadata": {
    "collapsed": false,
    "scrolled": false
   },
   "outputs": [
    {
     "data": {
      "text/html": [
       "<div>\n",
       "<table border=\"1\" class=\"dataframe\">\n",
       "  <thead>\n",
       "    <tr style=\"text-align: right;\">\n",
       "      <th></th>\n",
       "      <th>Throws</th>\n",
       "      <th>Pitcher</th>\n",
       "      <th>Average Yearly Salary</th>\n",
       "    </tr>\n",
       "  </thead>\n",
       "  <tbody>\n",
       "    <tr>\n",
       "      <th>0</th>\n",
       "      <td>L</td>\n",
       "      <td>False</td>\n",
       "      <td>4.463927e+06</td>\n",
       "    </tr>\n",
       "    <tr>\n",
       "      <th>1</th>\n",
       "      <td>L</td>\n",
       "      <td>True</td>\n",
       "      <td>3.452450e+06</td>\n",
       "    </tr>\n",
       "    <tr>\n",
       "      <th>2</th>\n",
       "      <td>R</td>\n",
       "      <td>False</td>\n",
       "      <td>3.585896e+06</td>\n",
       "    </tr>\n",
       "    <tr>\n",
       "      <th>3</th>\n",
       "      <td>R</td>\n",
       "      <td>True</td>\n",
       "      <td>3.337902e+06</td>\n",
       "    </tr>\n",
       "  </tbody>\n",
       "</table>\n",
       "</div>"
      ],
      "text/plain": [
       "  Throws Pitcher  Average Yearly Salary\n",
       "0      L   False           4.463927e+06\n",
       "1      L    True           3.452450e+06\n",
       "2      R   False           3.585896e+06\n",
       "3      R    True           3.337902e+06"
      ]
     },
     "execution_count": 680,
     "metadata": {},
     "output_type": "execute_result"
    }
   ],
   "source": [
    "grouped_throwing_style = group_two_variables(usastars_salaries, 'throws', 'Pitcher')\n",
    "#mean yearly salary for keys\n",
    "throwing_salaries = grouped_throwing_style.mean()['salary'].reset_index() \n",
    "throwing_salaries.columns = ['Throws', 'Pitcher', 'Average Yearly Salary']\n",
    "\n",
    "print throwing_salaries       "
   ]
  },
  {
   "cell_type": "markdown",
   "metadata": {},
   "source": [
    "For the next portion of the analysis, we look at college attendence for MLB All-Stars.  Both NCAA and junior college teams are counted in the data, and the main focus here is to determine if there is a more direct path to MLB stardom by skipping higher education to enter professional baseball out of high school.  The initial look shows 44.6% of All-Star pitchers and 38.5% of All-Star hitters attended college.  These statistics are surprisingly low.  Many top amateur baseball players show promise in high school and are eligible to be drafted and signed following their senior year, but still it would be shortsighted if we didn't take a closer look at why these numbers are so low.  "
   ]
  },
  {
   "cell_type": "code",
   "execution_count": 681,
   "metadata": {
    "collapsed": false
   },
   "outputs": [
    {
     "data": {
      "text/plain": [
       "Pitcher\n",
       "False    0.385185\n",
       "True     0.446108\n",
       "Name: College, dtype: float64"
      ]
     },
     "execution_count": 681,
     "metadata": {},
     "output_type": "execute_result"
    }
   ],
   "source": [
    "grouped_position = usa_stars.groupby('Pitcher') \n",
    "\n",
    "#take mean of Booleans in 'College' column\n",
    "grouped_position.mean()['College'] "
   ]
  },
  {
   "cell_type": "markdown",
   "metadata": {},
   "source": [
    "Though the NCAA championship for baseball originated in 1947, the amateur game did not gain popularity until closer to the 1980s.  With the rise in hype surrounding the now-televised College World Series and increased financial support from university athletic departments to baseball programs, modern day college baseball is in a much different place than it was half a century ago.  Therefore in order to get a better grasp of whether college baseball is a viable route for a budding prospect, it is necessary to take a more recent look at MLB All-Stars and their education decisions.  "
   ]
  },
  {
   "cell_type": "code",
   "execution_count": 682,
   "metadata": {
    "collapsed": false
   },
   "outputs": [
    {
     "data": {
      "text/plain": [
       "Pitcher\n",
       "False    0.524675\n",
       "True     0.613636\n",
       "Name: College, dtype: float64"
      ]
     },
     "execution_count": 682,
     "metadata": {},
     "output_type": "execute_result"
    }
   ],
   "source": [
    "#create df of players who were allstars in 1980 or after\n",
    "allstars_past_1980 = usa_stars.loc[usa_stars['yearID'] >= 1980] \n",
    "\n",
    "#group data by position\n",
    "grouped_past_1980 = allstars_past_1980.groupby('Pitcher') \n",
    "grouped_past_1980.mean()['College'] "
   ]
  },
  {
   "cell_type": "markdown",
   "metadata": {},
   "source": [
    "The updated statistic of 61.3% of pitchers and 52.5% of hitters playing college baseball shows just how the game has grown at the amateur level in recent years.  With programs improving and high level athletes choosing to pursue an education while playing, the college game has seemingly become more competitive and a better place than before for players to hone their skills for the next level.  The roughly 9% difference between the positional groups still raises some questions but could be explained by scouts better identifying top level hitting prospects earlier and getting them signed to professional contracts.  Meanwhile pitchers could use the extra time as an amateur in college to prepare their skillset for the challenges of the professional level."
   ]
  },
  {
   "cell_type": "code",
   "execution_count": 683,
   "metadata": {
    "collapsed": false
   },
   "outputs": [
    {
     "data": {
      "text/plain": [
       "[<matplotlib.text.Text at 0x3bc72080>, <matplotlib.text.Text at 0x3bc64fd0>]"
      ]
     },
     "execution_count": 683,
     "metadata": {},
     "output_type": "execute_result"
    },
    {
     "data": {
      "image/png": "[encoded data removed]",
      "text/plain": [
       "<matplotlib.figure.Figure at 0x3ccdd080>"
      ]
     },
     "metadata": {},
     "output_type": "display_data"
    }
   ],
   "source": [
    "#remove index for first college df created\n",
    "grouped_all_college = grouped_position.mean()['College'].reset_index() \n",
    "grouped_all_college.columns = ['Pitcher', 'Total All-Stars']\n",
    "\n",
    "#remove index for second college df created\n",
    "grouped_past_1980s = grouped_past_1980.mean()['College'].reset_index()\n",
    "grouped_past_1980s.columns = ['Pitcher', 'All-Stars Past 1980']\n",
    "\n",
    "#merge df of all college and recent college\n",
    "college_player_comp = grouped_all_college.merge(grouped_past_1980s, on='Pitcher', how='inner') \n",
    "\n",
    "#plot college_player_comp data using the two specified columns \n",
    "coll_plot = (college_player_comp.loc[:,['Total All-Stars','All-Stars Past 1980']]).plot(kind = 'bar', title = 'MLB All-Stars Playing College Baseball')\n",
    "coll_plot.set(ylabel = 'Proportion Played in College')\n",
    "coll_plot.set_xticklabels(['Hitters', 'Pitchers'], rotation = 45)"
   ]
  },
  {
   "cell_type": "markdown",
   "metadata": {},
   "source": [
    "The next attribute starts before a player even learns how to swing a bat or throw a ball.  Upbringing can be predictor of success in a lot of fields, and the environment that one lives plays a vital role.  Therefore, we next take a look at the birth places of all American MLB All-Stars.  Is a certain region or climate better? Does it seem to matter at all where you are born?\n",
    "\n",
    "The resulting chart shows California, Texas, New York, Florida, and Illinois have produced the most All-Stars in that order.  This shouldn't come as a surprise.  These five states also happen to have the five highest populations of citizens in the United States.  Similarly, the five states with lowest totals are all states with some of the smallest proportions of the total US population.        "
   ]
  },
  {
   "cell_type": "code",
   "execution_count": 684,
   "metadata": {
    "collapsed": false,
    "scrolled": false
   },
   "outputs": [
    {
     "data": {
      "text/plain": [
       "[<matplotlib.text.Text at 0x30dd3860>]"
      ]
     },
     "execution_count": 684,
     "metadata": {},
     "output_type": "execute_result"
    },
    {
     "data": {
      "image/png": "[encoded data removed]",
      "text/plain": [
       "<matplotlib.figure.Figure at 0x3c4b72e8>"
      ]
     },
     "metadata": {},
     "output_type": "display_data"
    }
   ],
   "source": [
    "#group players from usa_stars by birth state and reset index\n",
    "states = usa_stars.groupby('birthState').size().reset_index() \n",
    "states.columns = ['Birth State','Frequency'] \n",
    "\n",
    "#sort data by frequency and sort starting lowest to highest\n",
    "states = states.sort_values(by=['Frequency'], ascending=[True]) \n",
    "\n",
    "def top_bottom_five(df):\n",
    "    \n",
    "    \"\"\"function that takes a df and returns data frame with top 10% and bottom 10%\"\"\"\n",
    "    \n",
    "    return df.head(len(df)/10).append(df.tail(len(df)/10))\n",
    "\n",
    "top_bottom_states = top_bottom_five(states) #use function to return top and bottom states\n",
    "\n",
    "#plot data in bar graph \n",
    "tb_states_plot = top_bottom_states.plot(x='Birth State', y='Frequency', kind='bar', legend = False, title = 'Top and Bottom Producers of All Stars', color = 'r')\n",
    "tb_states_plot.set(ylabel='Frequency')"
   ]
  },
  {
   "cell_type": "markdown",
   "metadata": {},
   "source": [
    "To dig deeper, the state frequencies were turned into percentages of the population of All-Star players.  Also, the percentages of the total US population for each state were calculated and uploaded.  To determine if any state really overperforms or underperforms in producing the highest level ballplayers, the difference between these two percentages was found, and both the top and bottom 5 were again plotted.\n",
    "\n",
    "The findings paint a much different picture than the first figure.  California again leads the way by a long shot, and the data points to the state being the premiere place for producing MLB All-Stars.  On the other hand, Texas and Florida were previously thought to be top producers, but the chart suggests that their production lags behind what would be expected from civilian populations of their size.  In all, it seems that pure population size of a state drives higher numbers of MLB All-Stars, but the theory of warmer climates being more efficient does not seem to be explicitly supported, evidenced by the performance of Texas, Arizona, and Florida. "
   ]
  },
  {
   "cell_type": "code",
   "execution_count": 685,
   "metadata": {
    "collapsed": false
   },
   "outputs": [
    {
     "name": "stdout",
     "output_type": "stream",
     "text": [
      "50\n"
     ]
    },
    {
     "data": {
      "text/plain": [
       "[<matplotlib.text.Text at 0x46046978>]"
      ]
     },
     "execution_count": 685,
     "metadata": {},
     "output_type": "execute_result"
    },
    {
     "data": {
      "image/png": "[encoded data removed]",
      "text/plain": [
       "<matplotlib.figure.Figure at 0x3ba45198>"
      ]
     },
     "metadata": {},
     "output_type": "display_data"
    }
   ],
   "source": [
    "#contains % state population is of entire US population\n",
    "real_pop = pd.read_csv('RealPop.csv')\n",
    "\n",
    "states_copy = states.copy() \n",
    "#change frequency column to a percentage of total all-stars\n",
    "states_copy.loc[:, 'Frequency'] = (statescopy['Frequency'] / (statescopy['Frequency'].sum())) * 100  \n",
    "real_pop.columns = ['Birth State', 'US Population'] \n",
    "#merge by key birth state state % and us populations %\n",
    "state_comp = states_copy.merge(real_pop, on='Birth State', how='inner')\n",
    "print len(state_comp) \n",
    "\n",
    "state_diff = state_comp.copy()\n",
    "#add column to df that shows all-star % minus US pop % and sort\n",
    "state_diff['Difference'] = state_diff['Frequency']-state_diff['US Population'] \n",
    "state_diff_sorted = state_diff.sort_values(by=['Difference'], ascending=[True]) \n",
    "\n",
    "#return top 5 and bottom 5\n",
    "top_bottom_diff = top_bottom_five(state_diff_sorted) \n",
    "\n",
    "#plot top_bottom_diff \n",
    "tbd = top_bottom_diff.plot(x='Birth State', y='Difference', kind='bar', legend = False, title = 'Top and Bottom Difference from US Population', color = 'r')\n",
    "tbd.set(ylabel='% Difference') #set y label"
   ]
  },
  {
   "cell_type": "markdown",
   "metadata": {},
   "source": [
    "The next attribute is inspired by recent public research on NHL players.  A study publish by PLOS ONE in 2013 stated that hockey players born in the first quarter of the year made up 36% of all players drafted in the NHL from 1980 to 2007.  The reasoning for the uneven proportion in the early months was cutoffs for select hockey teams occured at that time, making these players the oldest on the teams.  \n",
    "\n",
    "The birth months of American born All-Stars are plotted below, and it seems the opposite is the case.  The first quarter appears to be a below the rest of the year.  The mode, August, is very important here.  The most MLB All-Stars have been born in that month, and there are a few possible explanations.  For one, July 31 has served for decades as the cutoff date for most recreational baseball leagues in America.  This means August born players would be the oldest on the teams.  Also, this coincides with the beginning dates of the school year for many public schools in America.  Unless a child is started early, kids born in August again will most likely be among the oldest in the grade.  Age translates to physical maturity and time to hone skills, so these kids will have an inherit edge in their younger years and more incentive to continue their careers in baseball having seen success."
   ]
  },
  {
   "cell_type": "code",
   "execution_count": 686,
   "metadata": {
    "collapsed": false,
    "scrolled": false
   },
   "outputs": [
    {
     "data": {
      "image/png": "[encoded data removed]",
      "text/plain": [
       "<matplotlib.figure.Figure at 0x3cd6da20>"
      ]
     },
     "metadata": {},
     "output_type": "display_data"
    }
   ],
   "source": [
    "#plot column 'birthMonth' from usa_stars df\n",
    "usa_stars['birthMonth'].hist(bins = 12, color = 'r')\n",
    "plt.xlim([1,12])\n",
    "plt.xlabel('Month')\n",
    "plt.ylabel('Frequency')\n",
    "plt.title('Birth Month of All-Stars')\n",
    "plt.show()"
   ]
  },
  {
   "cell_type": "markdown",
   "metadata": {},
   "source": [
    "So far, a number of attributes have been analyzed to create an optimal path to stardom and wealth in baseball.  However, not every aspiring player reaches the pinnacle of the sport, for it's a game of numbers and the majority of signees will stall out in the minors or enjoy a short-lived major league career.  Therefore, the study will conclude with a review of debut ages for All-Stars to help determine whether a minor league player might still be on the path to greatness or fading past their window of opportunity."
   ]
  },
  {
   "cell_type": "code",
   "execution_count": 687,
   "metadata": {
    "collapsed": false,
    "scrolled": false
   },
   "outputs": [
    {
     "name": "stdout",
     "output_type": "stream",
     "text": [
      "count    1478.000000\n",
      "mean       22.931949\n",
      "std         2.217781\n",
      "min        15.863107\n",
      "25%        21.535934\n",
      "50%        22.859685\n",
      "75%        24.166324\n",
      "max        42.006845\n",
      "Name: age, dtype: float64\n"
     ]
    }
   ],
   "source": [
    "#convert column from string to datetime\n",
    "adjusted_debut = pd.to_datetime(usa_stars['debut']) \n",
    "\n",
    "#adjust integers in from usa_stars to numbers that can be recognized to translate to datetime\n",
    "adjusted_birth = pd.to_datetime(usa_stars[\"birthYear\"]*10000+usa_stars[\"birthMonth\"]*100+usa_stars[\"birthDay\"],format='%Y%m%d')\n",
    "#calculate debut date minus birth date to get age\n",
    "debut_age = adjusted_debut-adjusted_birth \n",
    "#adjust time to alldays\n",
    "debut_age.astype('timedelta64[D]') \n",
    "#adjust days in datetime to days integer and convert from days to years\n",
    "debut_days_integer = debut_age / np.timedelta64(1,'D') \n",
    "debut_years = debut_days_integer/365.25 \n",
    "\n",
    "#create debutdf retaining .loc values from usa_stars and debut age\n",
    "debutdf = pd.DataFrame({'Player':debut_years.index, 'age':debut_years.values}) \n",
    "\n",
    "print debutdf.describe()['age'] "
   ]
  },
  {
   "cell_type": "markdown",
   "metadata": {},
   "source": [
    "The mean debut age of MLB All-Stars is 22.93, with a first quartile of 21.5 and third quartile 24.2.  This seems fairly young, but most of top prosepects don't spend a long time in the minor leagues.  The data seems to suggest that Major League teams quickly identify these top prospects and feel they can be an asset to their club at an early age, thus resulting in the young average debut age.  "
   ]
  },
  {
   "cell_type": "code",
   "execution_count": 688,
   "metadata": {
    "collapsed": false
   },
   "outputs": [
    {
     "data": {
      "image/png": "[encoded data removed]",
      "text/plain": [
       "<matplotlib.figure.Figure at 0x3bd51f28>"
      ]
     },
     "metadata": {},
     "output_type": "display_data"
    }
   ],
   "source": [
    "#create boxplot to visualize ages and removed xtick label of plot\n",
    "ax = debutdf.plot(y='age', kind ='box', title = 'Boxplot of USA All Star Debut Age', ylim = (15,30)) \n",
    "ax.set(ylabel=\"Age\") \n",
    "plt.tick_params(axis='x',which='both', bottom='off', top='off', labelbottom='off') "
   ]
  },
  {
   "cell_type": "markdown",
   "metadata": {},
   "source": [
    "The above boxplot shows the same information as the table above with an inner quartile range of 2.63 years.  Here the boxplot has taken into account the possibility of outliers in the data and removed them from the visual.  This was something that seemed curious in the descriptive statistics previously stated, especially with a minimum age of 15 years old and maximum of 42.  To take a closer look at what these outliers might represent and confirm the validity of the dataset, we'll search for where these maximums and minimums occur."
   ]
  },
  {
   "cell_type": "code",
   "execution_count": 689,
   "metadata": {
    "collapsed": false,
    "scrolled": false
   },
   "outputs": [
    {
     "name": "stdout",
     "output_type": "stream",
     "text": [
      "playerID           paigesa01\n",
      "birthYear               1906\n",
      "birthMonth                 7\n",
      "birthDay                   7\n",
      "birthCountry             USA\n",
      "birthState                AL\n",
      "birthCity             Mobile\n",
      "deathYear               1982\n",
      "deathMonth                 6\n",
      "deathDay                   8\n",
      "deathCountry             USA\n",
      "deathState                MO\n",
      "deathCity        Kansas City\n",
      "nameFirst            Satchel\n",
      "nameLast               Paige\n",
      "nameGiven       Leroy Robert\n",
      "weight                   180\n",
      "height                    75\n",
      "bats                       R\n",
      "throws                     R\n",
      "debut             1948-07-09\n",
      "finalGame         1965-09-25\n",
      "retroID             paigs101\n",
      "bbrefID            paigesa01\n",
      "yearID                  1953\n",
      "gameNum                    0\n",
      "gameID          NLS195307140\n",
      "teamID                   SLA\n",
      "lgID                      AL\n",
      "GP                         1\n",
      "startingPos              NaN\n",
      "Pitcher                 True\n",
      "College                False\n",
      "Name: 1190, dtype: object\n"
     ]
    }
   ],
   "source": [
    "#find location of the max age value and go back to usa_stars value to see who entry corresponds to\n",
    "print usa_stars.iloc[debutdf['age'].argmax()] "
   ]
  },
  {
   "cell_type": "markdown",
   "metadata": {},
   "source": [
    "The player corresponding to the maximum age of MLB debut for an eventual All-Star is Satchel Paige.  Paige actually made his professional baseball debut in 1926, but this came in the Negro Leagues as baseball at the time was segregated.  He was arguably the greatest pitcher ever to play the game, so it's not a surprise that when he finally was allowed to play in Major League Baseball in 1948 he still had enough left in the tank to earn All-Star status."
   ]
  },
  {
   "cell_type": "code",
   "execution_count": 690,
   "metadata": {
    "collapsed": false,
    "scrolled": false
   },
   "outputs": [
    {
     "data": {
      "text/plain": [
       "playerID           nuxhajo01\n",
       "birthYear               1928\n",
       "birthMonth                 7\n",
       "birthDay                  30\n",
       "birthCountry             USA\n",
       "birthState                OH\n",
       "birthCity           Hamilton\n",
       "deathYear               2007\n",
       "deathMonth                11\n",
       "deathDay                  15\n",
       "deathCountry             USA\n",
       "deathState                OH\n",
       "deathCity          Fairfield\n",
       "nameFirst                Joe\n",
       "nameLast             Nuxhall\n",
       "nameGiven       Joseph Henry\n",
       "weight                   195\n",
       "height                    75\n",
       "bats                       L\n",
       "throws                     L\n",
       "debut             1944-06-10\n",
       "finalGame         1966-10-02\n",
       "retroID             nuxhj101\n",
       "bbrefID            nuxhajo01\n",
       "yearID                  1956\n",
       "gameNum                    0\n",
       "gameID          ALS195607100\n",
       "teamID                   CIN\n",
       "lgID                      NL\n",
       "GP                         0\n",
       "startingPos              NaN\n",
       "Pitcher                 True\n",
       "College                False\n",
       "Name: 1156, dtype: object"
      ]
     },
     "execution_count": 690,
     "metadata": {},
     "output_type": "execute_result"
    }
   ],
   "source": [
    "#find location of the min age value and go back to usa_stars value to see who entry corresponds to\n",
    "usa_stars.iloc[debutdf['age'].argmin()]"
   ]
  },
  {
   "cell_type": "markdown",
   "metadata": {},
   "source": [
    "The minimum debut age of 15 is equally as shocking but also has a sound explanation.  Joe Nuxhall was called upon to pitch for the Reds for one game in 1944 because of player shortages associated with World War II.  He eventually made it back to the big leagues in 1952 and made an All-Star team 3 years later.\n",
    "\n",
    "These are just two anecdotal examples, but they do help bring to light an interesting point about baseball.  All types of people can reach the pinnacle of the game, but different events and personal trials can make that goal happen on a timeline a little different than what the player might have originally envisioned.  \n",
    "\n",
    "With a few of these outliers explained, it's now time to explore the bulk of the data. The hope is to be able to determine if there is a certain cutoff age where the window of opportunity closes for an aspiring player to stay on the most travelled path to becoming an elite player."
   ]
  },
  {
   "cell_type": "code",
   "execution_count": 691,
   "metadata": {
    "collapsed": false,
    "scrolled": false
   },
   "outputs": [
    {
     "data": {
      "image/png": "[encoded data removed]",
      "text/plain": [
       "<matplotlib.figure.Figure at 0x3c6c4c50>"
      ]
     },
     "metadata": {},
     "output_type": "display_data"
    }
   ],
   "source": [
    "#plot the debutdf for age\n",
    "debutdf['age'].hist(range=(14,32), color = 'red', bins = 18) \n",
    "plt.xlabel('Age') \n",
    "plt.ylabel('Frequency') \n",
    "plt.title('Debut Age of USA All Stars') \n",
    "plt.xlim([14,32]) \n",
    "plt.show()"
   ]
  },
  {
   "cell_type": "markdown",
   "metadata": {},
   "source": [
    "The above histogram is fairly normally distributed and as expected the visual confirms ages 21 to 23 to be the most common.  Since a debut age of 24 still has seen over 200 players go on to be All-Stars, it seems logical to use this age as a rough cutoff.  Age 25 has less than 100 All-Stars, and the frequency just decreases from there as ages increases.  Therefore, it's consistent with the data to have a marker around age 25 as the shrinking point for the window of opportunity of minor league players to become All-Star caliber.  In other words, it would be around this age where the likelihood of becoming an All-Star for a player yet to play in the Majors decreases substantially."
   ]
  },
  {
   "cell_type": "markdown",
   "metadata": {},
   "source": [
    "# Conclusion"
   ]
  },
  {
   "cell_type": "markdown",
   "metadata": {},
   "source": [
    "It takes a lot of hard work, determination, and a little bit of luck along the journey to rise to stardom in Major League Baseball.  Every player in the study possessed something special that separated them from the rest of the pack and allowed them to become one of the game's finest.  In the end, the study suggests that top level hitters make more yearly than pitchers, and left handed hitting, left handed throwing position players are the highest paid commodity.  A majority of All-Stars in the modern era come from the collegiate ranks, though All-Star pitchers are more likely to attend than hitters.  After accounting for population differences, no region or climate particularly seemed to be a more fertile breeding ground for All-Star level talent.  However, the state of California produces the most and does it at a higher rate than one might expect from their population.  The month of August was the most common month of birth for All-Stars, and the second half of the calendar outweighed the first six months.  Finally, the majority of players of All-Stars have made their debut in the Majors by age 25.\n",
    "\n",
    "All of the findings are tenative and based on some assumptions within the given data.  Every player is not born with the same athleticism or skillset, so assuming each player has the same chance to reach the elite level is shortsighted.  Also of note is that society and population tendencies have changed over time.  A great example of this is the maximum and minimum debut age research, where external factors that the player had no control over had a huge impact on the course of their careers.  Likewise, the game of baseball has tranformed many times throughout history from the Dead Ball era to the Steroid era to the modern day game.  The inferences drawn throughout the study are from the totality of this time frame and should be treated with caution as such.\n",
    "\n",
    "Going forward, there are future studies into this same data that could attempt to explain or help prove some of the assumptions drawn.  In particular, it would be interesting to dive into the position break down and the hypotheses that were made about first baseman and outfielders being the most offensive minded on the field.  Along these lines, true correlations between lefty hitters throwing left handed and vice versa for righties would be enlightening, for it was assumed that by nature the majority of players were like this.  It would also be informative to research the longevity in the game of position players and pitchers.  The assumptions about injury rates for pitchers and their ability to stay on the field to get to more lucrative deals would be very pertinent topics to further investigate.  Finally, the data was sorted to exclude all players born outside the United States, and foreign born plays certainly play a significant role in the landscape of professional baseball today."
   ]
  },
  {
   "cell_type": "markdown",
   "metadata": {},
   "source": [
    "# Resources"
   ]
  },
  {
   "cell_type": "markdown",
   "metadata": {},
   "source": [
    "\"Delete Duplicates in Pandas.\" Chis Albon. http://chrisalbon.com/python/pandas_delete_duplicates.html\n",
    "\n",
    "\"Select Rows from a Dataframe.\" Stackoverflow. http://stackoverflow.com/questions/17071871/select-rows-from-a-dataframe-based-on-values-in-a-column-in-pandas\n",
    "\n",
    "\"Delete Dataframe Row.\" Stackoverflow. http://stackoverflow.com/questions/18172851/deleting-dataframe-row-in-pandas-based-on-column-value\n",
    "\n",
    "\"Python, Best Way to Convert.\" Stackoverflow. http://stackoverflow.com/questions/26097916/python-best-way-to-convert-a-pandas-series-into-a-pandas-dataframe\n",
    "\n",
    "\"Pyplot.\" Matplotlib. http://matplotlib.org/api/pyplot_api.html\n",
    "\n",
    "\"Joe Nuxhall.\" Wikipedia. https://en.wikipedia.org/wiki/Joe_Nuxhall\n",
    "\n",
    "\"First All-Star Game.\" Google. https://www.google.com/#q=when+was+the+first+mlb+all+star+game\n",
    "\n",
    "\"Converting a Column.\" Stackoverflow. http://stackoverflow.com/questions/17950374/converting-a-column-within-pandas-dataframe-from-int-to-string\n",
    "\n",
    "\"Select Rows.\" Stackoverflow. http://stackoverflow.com/questions/17071871/select-rows-from-a-dataframe-based-on-values-in-a-column-in-pandas\n",
    "\n",
    "\"Exclude a Few Columns.\" Stackoverflow. http://stackoverflow.com/questions/13003051/how-do-i-exclude-a-few-columns-from-a-dataframe-plot\n",
    "\n",
    "\"Aligning Rotated xticklabels.\" Stackoverflow. http://stackoverflow.com/questions/14852821/aligning-rotated-xticklabels-with-their-respective-xticks\n",
    "\n",
    "\"NHL Selection Bias.\" Wired. https://www.wired.com/2013/03/nhl-selection-bias/\n",
    "\n",
    "\"Plotting with Groupby.\" Udacity Forum. https://discussions.udacity.com/t/plotting-with-groupby/214825/2\n",
    "\n",
    "\"Boxplot Column Label.\" Udacity Forum. https://discussions.udacity.com/t/boxplot-column-label/214693/2\n",
    "\n",
    "\"Combining Columns for Datetime.\" Udacity Forum. https://discussions.udacity.com/t/combining-columns-for-datetime/214486\n",
    "\n",
    "\".groupby Histograms.\" Udacity Forum. https://discussions.udacity.com/t/groupby-histograms/214404\n",
    "\n",
    "\"Add a Column of Booleans.\" Udacity Forum. https://discussions.udacity.com/t/add-column-of-booleans-in-pd/214191\n",
    "\n",
    "\"Change a value in df.\" Udacity Forum. https://discussions.udacity.com/t/baseball-p2-change-a-value-in-df/214140\n",
    "\n",
    "\"Satchel Paige.\" Wikipedia. https://en.wikipedia.org/wiki/Satchel_Paige\n",
    "\n",
    "\"List of US States.\" Wikipedia. https://en.wikipedia.org/wiki/List_of_U.S._states_and_territories_by_population\n"
   ]
  }
 ],
 "metadata": {
  "anaconda-cloud": {},
  "kernelspec": {
   "display_name": "Python [conda env:DAND]",
   "language": "python",
   "name": "conda-env-DAND-py"
  },
  "language_info": {
   "codemirror_mode": {
    "name": "ipython",
    "version": 2
   },
   "file_extension": ".py",
   "mimetype": "text/x-python",
   "name": "python",
   "nbconvert_exporter": "python",
   "pygments_lexer": "ipython2",
   "version": "2.7.12"
  }
 },
 "nbformat": 4,
 "nbformat_minor": 2
}
